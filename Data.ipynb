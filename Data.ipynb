{
 "cells": [
  {
   "cell_type": "code",
   "execution_count": 3,
   "metadata": {},
   "outputs": [
    {
     "name": "stderr",
     "output_type": "stream",
     "text": [
      "Matplotlib is building the font cache; this may take a moment.\n"
     ]
    }
   ],
   "source": [
    "import numpy as np\n",
    "from collections import *\n",
    "import pickle\n",
    "import nltk\n",
    "from nltk.corpus import wordnet\n",
    "import re\n",
    "import matplotlib.pyplot as plt\n",
    "import seaborn as sns"
   ]
  },
  {
   "cell_type": "code",
   "execution_count": 6,
   "metadata": {},
   "outputs": [
    {
     "name": "stderr",
     "output_type": "stream",
     "text": [
      "[nltk_data] Downloading package wordnet to /home/spider/nltk_data...\n"
     ]
    },
    {
     "data": {
      "text/plain": [
       "True"
      ]
     },
     "execution_count": 6,
     "metadata": {},
     "output_type": "execute_result"
    }
   ],
   "source": [
    "nltk.download('wordnet')"
   ]
  },
  {
   "cell_type": "code",
   "execution_count": 7,
   "metadata": {},
   "outputs": [],
   "source": [
    "class Words:\n",
    "    def __init__(self) -> None:\n",
    "        self.words = set()\n",
    "        self.word_map = defaultdict(set)\n",
    "        self.graph = None\n",
    "\n",
    "    def load_words(self):\n",
    "        self.words.update(\n",
    "            np.loadtxt(\n",
    "                'database/words.txt',\n",
    "                dtype=str\n",
    "            )\n",
    "        )\n",
    "\n",
    "        self._load_wordnet()\n",
    "        self.map_words()\n",
    "\n",
    "    @staticmethod\n",
    "    def generate(word):\n",
    "        for i in range(len(word)):\n",
    "            yield word[:i] + '_' + word[i+1:]\n",
    "\n",
    "    def _load_wordnet(self):\n",
    "        for synset in wordnet.all_synsets():\n",
    "            for lemma in synset.lemmas():\n",
    "                name = lemma.name().lower()\n",
    "                if re.match('^[a-z]*$', name):\n",
    "                    self.words.add(name.lower())\n",
    "\n",
    "    def map_words(self):\n",
    "        for w in self.words:\n",
    "            self.word_map[len(w)].add(w)\n",
    "\n",
    "        def construct_graph(self, dst):\n",
    "            graph = defaultdict(lambda : defaultdict(set))\n",
    "            for length, words in self.word_map.items():\n",
    "                for word in words:\n",
    "                    for i in range(len(word)):\n",
    "                        pattern = word[:i] + '_' + word[i+1:]\n",
    "                        graph[length][pattern].add(word)\n",
    "            \n",
    "        with open(dst, 'wb+') as fd:\n",
    "            pickle.dump(dict(graph), fd)\n",
    "        self.graph = graph\n",
    "    \n",
    "    def init(self):\n",
    "        self.load_words()\n",
    "        self.construct_graph('graph.pkl')\n",
    "\n",
    "        print(f\"Loaded {len(self.words)}\")\n",
    "\n",
    "        with open('words.pkl', 'wb+') as fd:\n",
    "            pickle.dump(self.words, fd)"
   ]
  },
  {
   "cell_type": "code",
   "execution_count": 8,
   "metadata": {},
   "outputs": [
    {
     "name": "stdout",
     "output_type": "stream",
     "text": [
      "Loaded 379557\n"
     ]
    }
   ],
   "source": [
    "words = Words()\n",
    "words.init()"
   ]
  },
  {
   "cell_type": "code",
   "execution_count": 20,
   "metadata": {},
   "outputs": [],
   "source": [
    "words_len = defaultdict(int)\n",
    "for v in sorted(words.words):\n",
    "    words_len[len(v)] += 1"
   ]
  },
  {
   "cell_type": "code",
   "execution_count": 22,
   "metadata": {},
   "outputs": [
    {
     "data": {
      "text/plain": [
       "Text(0.5, 1.0, 'word length vs frequency graph')"
      ]
     },
     "execution_count": 22,
     "metadata": {},
     "output_type": "execute_result"
    },
    {
     "data": {
      "image/png": "[encoded data removed]",
      "text/plain": [
       "<Figure size 640x480 with 1 Axes>"
      ]
     },
     "metadata": {},
     "output_type": "display_data"
    }
   ],
   "source": [
    "plt.scatter(words_len.keys(), words_len.values())\n",
    "plt.xlabel('length of words')\n",
    "plt.ylabel('number of words')\n",
    "plt.grid(True)\n",
    "plt.title('word length vs frequency graph')"
   ]
  },
  {
   "cell_type": "code",
   "execution_count": 13,
   "metadata": {},
   "outputs": [
    {
     "data": {
      "text/plain": [
       "379557"
      ]
     },
     "execution_count": 13,
     "metadata": {},
     "output_type": "execute_result"
    }
   ],
   "source": [
    "len(words.words)"
   ]
  },
  {
   "cell_type": "code",
   "execution_count": 40,
   "metadata": {},
   "outputs": [
    {
     "data": {
      "text/plain": [
       "415620"
      ]
     },
     "execution_count": 40,
     "metadata": {},
     "output_type": "execute_result"
    }
   ],
   "source": []
  }
 ],
 "metadata": {
  "kernelspec": {
   "display_name": "Python 3 (ipykernel)",
   "language": "python",
   "name": "python3"
  },
  "language_info": {
   "codemirror_mode": {
    "name": "ipython",
    "version": 3
   },
   "file_extension": ".py",
   "mimetype": "text/x-python",
   "name": "python",
   "nbconvert_exporter": "python",
   "pygments_lexer": "ipython3",
   "version": "3.11.6"
  }
 },
 "nbformat": 4,
 "nbformat_minor": 4
}
